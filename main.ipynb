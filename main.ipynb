{
 "cells": [
  {
   "cell_type": "code",
   "execution_count": null,
   "metadata": {},
   "outputs": [],
   "source": [
    "import pandas as pd\n",
    "import numpy as np\n",
    "import seaborn as sns\n",
    "import matplotlib.pyplot as plt\n",
    "import plotly.express as px\n",
    "import plotly.graph_objects as go\n",
    "import calendar"
   ]
  },
  {
   "cell_type": "code",
   "execution_count": null,
   "metadata": {},
   "outputs": [],
   "source": [
    "weather_info = pd.read_csv('input/london-weather-data/london_weather.csv')\n",
    "print(weather_info)\n",
    "\n",
    "print(weather_info.shape)\n",
    "print(weather_info.head)\n",
    "\n"
   ]
  },
  {
   "cell_type": "code",
   "execution_count": null,
   "metadata": {},
   "outputs": [],
   "source": [
    "weather_info.info()\n",
    "weather_info.describe().T\n",
    "\n"
   ]
  },
  {
   "cell_type": "code",
   "execution_count": null,
   "metadata": {},
   "outputs": [],
   "source": [
    "weather_info['year'] = weather_info['date'].astype(str).str[:4]\n",
    "weather_info['month'] = weather_info['date'].astype(str).str[4:6]\n",
    "weather_info['date'] = weather_info['date'].astype(str).str[6:]\n",
    "\n",
    "weather_info[['date', 'month', 'year']] = weather_info[['date', 'month', 'year']].astype(int)\n",
    "weather_features = weather_info.select_dtypes(exclude = 'object').columns\n",
    "\n"
   ]
  },
  {
   "cell_type": "code",
   "execution_count": null,
   "metadata": {},
   "outputs": [],
   "source": [
    "for x in weather_features:\n",
    "  print(x, len(weather_info[x].unique())) \n",
    "london_weather_monthly_df = weather_info.groupby(['year', 'month'], as_index = False)[weather_features].mean()\n",
    "# london_weather_monthly_df.plot(x = 'date', y = ['min_temp'], kind = 'line', figsize = (20,10))\n",
    "london_weather_yearly_df = london_weather_monthly_df.groupby(['year'], as_index = False)[['max_temp', 'mean_temp', 'min_temp', 'global_radiation']].mean()\n",
    "\n"
   ]
  },
  {
   "cell_type": "code",
   "execution_count": null,
   "metadata": {},
   "outputs": [],
   "source": [
    "layout = go.Layout(\n",
    "    title = \"Temperature of London over the years\",\n",
    "    plot_bgcolor = \"#FFF\",\n",
    "    hovermode = \"x\",\n",
    "    hoverdistance = 100,\n",
    "    spikedistance = 1000,\n",
    "    xaxis=dict(\n",
    "        title = \"Years (1979 to 2020)\",\n",
    "        linecolor = \"dimgray\",\n",
    "        showgrid = False,\n",
    "        showspikes = True,\n",
    "        spikethickness = 1,\n",
    "        spikedash = 'dash',\n",
    "        spikecolor = 'darkgrey',\n",
    "        spikemode = 'across',\n",
    "        mirror = True\n",
    "    ),\n",
    "    yaxis=dict(\n",
    "        title = \"Temperature (°C)\",\n",
    "        linecolor = \"dimgray\",\n",
    "        mirror = True\n",
    "    )\n",
    ")\n",
    "\n",
    "plot = go.Figure(data = [go.Scatter(\n",
    "    x = london_weather_yearly_df.year,\n",
    "    y = london_weather_yearly_df.max_temp,\n",
    "    name = 'Maximum',\n",
    "    mode = 'lines+markers',\n",
    "    line_color = 'maroon'),\n",
    "    go.Scatter(\n",
    "    x = london_weather_yearly_df.year,\n",
    "    y = london_weather_yearly_df.min_temp,\n",
    "    name = 'Minimum',\n",
    "    mode = 'lines+markers',\n",
    "    line_color = 'darkblue')\n",
    "    ],\n",
    "    layout = layout)\n",
    "plot.show() \n"
   ]
  }
 ],
 "metadata": {
  "language_info": {
   "name": "python"
  }
 },
 "nbformat": 4,
 "nbformat_minor": 2
}
